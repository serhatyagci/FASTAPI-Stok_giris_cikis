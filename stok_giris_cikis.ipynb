{
  "nbformat": 4,
  "nbformat_minor": 0,
  "metadata": {
    "colab": {
      "provenance": [],
      "authorship_tag": "ABX9TyMMHZ2ib0KrLSFDTWpswiZS",
      "include_colab_link": true
    },
    "kernelspec": {
      "name": "python3",
      "display_name": "Python 3"
    },
    "language_info": {
      "name": "python"
    }
  },
  "cells": [
    {
      "cell_type": "markdown",
      "metadata": {
        "id": "view-in-github",
        "colab_type": "text"
      },
      "source": [
        "<a href=\"https://colab.research.google.com/github/serhatyagci/FASTAPI-Stok_giris_cikis/blob/main/stok_giris_cikis.ipynb\" target=\"_parent\"><img src=\"https://colab.research.google.com/assets/colab-badge.svg\" alt=\"Open In Colab\"/></a>"
      ]
    },
    {
      "cell_type": "markdown",
      "source": [
        "Gerekli kütüphanelerin kurulması."
      ],
      "metadata": {
        "id": "9NTDjk9vA8Lm"
      }
    },
    {
      "cell_type": "code",
      "source": [
        "!pip install fastapi uvicorn nest-asyncio pyngrok sqlalchemy databases fastapi"
      ],
      "metadata": {
        "colab": {
          "base_uri": "https://localhost:8080/"
        },
        "collapsed": true,
        "id": "KfHlURlqXpM7",
        "outputId": "ac9f5219-1ad9-498c-fc9b-1a1ad29bd80e"
      },
      "execution_count": null,
      "outputs": [
        {
          "output_type": "stream",
          "name": "stdout",
          "text": [
            "Requirement already satisfied: fastapi in /usr/local/lib/python3.10/dist-packages (0.115.6)\n",
            "Requirement already satisfied: uvicorn in /usr/local/lib/python3.10/dist-packages (0.34.0)\n",
            "Requirement already satisfied: nest-asyncio in /usr/local/lib/python3.10/dist-packages (1.6.0)\n",
            "Requirement already satisfied: pyngrok in /usr/local/lib/python3.10/dist-packages (7.2.2)\n",
            "Requirement already satisfied: sqlalchemy in /usr/local/lib/python3.10/dist-packages (2.0.36)\n",
            "Requirement already satisfied: databases in /usr/local/lib/python3.10/dist-packages (0.9.0)\n",
            "Requirement already satisfied: starlette<0.42.0,>=0.40.0 in /usr/local/lib/python3.10/dist-packages (from fastapi) (0.41.3)\n",
            "Requirement already satisfied: pydantic!=1.8,!=1.8.1,!=2.0.0,!=2.0.1,!=2.1.0,<3.0.0,>=1.7.4 in /usr/local/lib/python3.10/dist-packages (from fastapi) (2.10.3)\n",
            "Requirement already satisfied: typing-extensions>=4.8.0 in /usr/local/lib/python3.10/dist-packages (from fastapi) (4.12.2)\n",
            "Requirement already satisfied: click>=7.0 in /usr/local/lib/python3.10/dist-packages (from uvicorn) (8.1.7)\n",
            "Requirement already satisfied: h11>=0.8 in /usr/local/lib/python3.10/dist-packages (from uvicorn) (0.14.0)\n",
            "Requirement already satisfied: PyYAML>=5.1 in /usr/local/lib/python3.10/dist-packages (from pyngrok) (6.0.2)\n",
            "Requirement already satisfied: greenlet!=0.4.17 in /usr/local/lib/python3.10/dist-packages (from sqlalchemy) (3.1.1)\n",
            "Requirement already satisfied: annotated-types>=0.6.0 in /usr/local/lib/python3.10/dist-packages (from pydantic!=1.8,!=1.8.1,!=2.0.0,!=2.0.1,!=2.1.0,<3.0.0,>=1.7.4->fastapi) (0.7.0)\n",
            "Requirement already satisfied: pydantic-core==2.27.1 in /usr/local/lib/python3.10/dist-packages (from pydantic!=1.8,!=1.8.1,!=2.0.0,!=2.0.1,!=2.1.0,<3.0.0,>=1.7.4->fastapi) (2.27.1)\n",
            "Requirement already satisfied: anyio<5,>=3.4.0 in /usr/local/lib/python3.10/dist-packages (from starlette<0.42.0,>=0.40.0->fastapi) (3.7.1)\n",
            "Requirement already satisfied: idna>=2.8 in /usr/local/lib/python3.10/dist-packages (from anyio<5,>=3.4.0->starlette<0.42.0,>=0.40.0->fastapi) (3.10)\n",
            "Requirement already satisfied: sniffio>=1.1 in /usr/local/lib/python3.10/dist-packages (from anyio<5,>=3.4.0->starlette<0.42.0,>=0.40.0->fastapi) (1.3.1)\n",
            "Requirement already satisfied: exceptiongroup in /usr/local/lib/python3.10/dist-packages (from anyio<5,>=3.4.0->starlette<0.42.0,>=0.40.0->fastapi) (1.2.2)\n"
          ]
        }
      ]
    },
    {
      "cell_type": "markdown",
      "source": [
        "FastAPI, SQLAlchemy ve diğer kütüphanelerin import edilmesi:"
      ],
      "metadata": {
        "id": "KK1P59txBD1w"
      }
    },
    {
      "cell_type": "code",
      "source": [
        "from fastapi import FastAPI, HTTPException, Depends\n",
        "from pydantic import BaseModel\n",
        "from sqlalchemy import create_engine, Column, Integer, String, Float, ForeignKey, DateTime\n",
        "from sqlalchemy.orm import sessionmaker, relationship, Session\n",
        "from sqlalchemy.orm import declarative_base\n",
        "from datetime import datetime\n",
        "from typing import List"
      ],
      "metadata": {
        "collapsed": true,
        "id": "XGJ0C8KrqImw"
      },
      "execution_count": null,
      "outputs": []
    },
    {
      "cell_type": "markdown",
      "source": [
        "Fast api uygulamasının başlatılması"
      ],
      "metadata": {
        "id": "Z5sE59FKBpb7"
      }
    },
    {
      "cell_type": "code",
      "source": [
        "app = FastAPI()"
      ],
      "metadata": {
        "id": "XyLRF2ffBM9x"
      },
      "execution_count": null,
      "outputs": []
    },
    {
      "cell_type": "markdown",
      "source": [
        "Veritabanı oluşturulması"
      ],
      "metadata": {
        "id": "3hXCYEQBB0X2"
      }
    },
    {
      "cell_type": "code",
      "source": [
        "# SQLite veritabanı URL'si\n",
        "SQLALCHEMY_DATABASE_URL = \"sqlite:///./test.db\"\n",
        "\n",
        "# Veritabanı bağlantısı ve session yapılandırması\n",
        "engine = create_engine(SQLALCHEMY_DATABASE_URL, connect_args={\"check_same_thread\": False})\n",
        "SessionLocal = sessionmaker(autocommit=False, autoflush=False, bind=engine)\n",
        "\n",
        "# Veritabanı tabanını tanımlanması\n",
        "Base = declarative_base()\n",
        "\n",
        "# Stoklar Tablosu\n",
        "class Stok(Base):\n",
        "    __tablename__ = \"stoklar\"\n",
        "    stok_id = Column(Integer, primary_key=True, index=True)\n",
        "    stok_kod = Column(String, index=True)\n",
        "    stok_adi = Column(String)\n",
        "    stok_barkod = Column(String)\n",
        "    stok_fiyat = Column(Float)\n",
        "\n",
        "    #veritabanı ilişkilerinin kurulması\n",
        "    alis = relationship(\"Alis\", back_populates=\"stok\")\n",
        "    satis = relationship(\"Satis\", back_populates=\"stok\")\n",
        "\n",
        "# Kasiyer Tablosu\n",
        "class Kasiyer(Base):\n",
        "    __tablename__ = \"kasiyer\"\n",
        "    kasiyer_id = Column(Integer, primary_key=True, index=True)\n",
        "    kasiyer_kod = Column(String, index=True)\n",
        "    kasiyer_adi = Column(String)\n",
        "    cinsiyet = Column(String)\n",
        "\n",
        "    #veritabanı ilişkilerinin kurulması\n",
        "    alis = relationship(\"Alis\", back_populates=\"kasiyer\")\n",
        "    satis = relationship(\"Satis\", back_populates=\"kasiyer\")\n",
        "\n",
        "# Alis Tablosu\n",
        "class Alis(Base):\n",
        "    __tablename__ = \"alis\"\n",
        "    alis_id = Column(Integer, primary_key=True, index=True)\n",
        "    stok_id = Column(Integer, ForeignKey(\"stoklar.stok_id\"))\n",
        "    alis_adet = Column(Integer)\n",
        "    kasiyer_id = Column(Integer, ForeignKey(\"kasiyer.kasiyer_id\"))\n",
        "    alis_tarihi = Column(DateTime, default=datetime.utcnow)\n",
        "\n",
        "    #veritabanı ilişkilerinin kurulması\n",
        "    stok = relationship(\"Stok\", back_populates=\"alis\")\n",
        "    kasiyer = relationship(\"Kasiyer\", back_populates=\"alis\")\n",
        "\n",
        "# Satis Tablosu\n",
        "class Satis(Base):\n",
        "    __tablename__ = \"satis\"\n",
        "    satis_id = Column(Integer, primary_key=True, index=True)\n",
        "    stok_id = Column(Integer, ForeignKey(\"stoklar.stok_id\"))\n",
        "    satis_adet = Column(Integer)\n",
        "    kasiyer_id = Column(Integer, ForeignKey(\"kasiyer.kasiyer_id\"))\n",
        "    satis_tarihi = Column(DateTime, default=datetime.utcnow)\n",
        "\n",
        "    #veritabanı ilişkilerinin kurulması\n",
        "    stok = relationship(\"Stok\", back_populates=\"satis\")\n",
        "    kasiyer = relationship(\"Kasiyer\", back_populates=\"satis\")\n",
        "\n",
        "# Veritabanı oluşturma (Tabloları oluşturur)\n",
        "Base.metadata.create_all(bind=engine)"
      ],
      "metadata": {
        "id": "7rAG0tINBvty"
      },
      "execution_count": null,
      "outputs": []
    },
    {
      "cell_type": "markdown",
      "source": [
        "Modellerin oluşturulması(API'ler için)"
      ],
      "metadata": {
        "id": "KXPUoPk9COqd"
      }
    },
    {
      "cell_type": "code",
      "source": [
        "# Pydantic modelleri: gelen api istek verilerinin doğruluğunu kontrol etmek için kullanılır.\n",
        "class StokCreate(BaseModel):\n",
        "    stok_kod: str\n",
        "    stok_adi: str\n",
        "    stok_barkod: str\n",
        "    stok_fiyat: float\n",
        "\n",
        "    class Config:\n",
        "        orm_mode = True\n",
        "\n",
        "class KasiyerCreate(BaseModel):\n",
        "    kasiyer_kod: str\n",
        "    kasiyer_adi: str\n",
        "    cinsiyet: str\n",
        "\n",
        "    class Config:\n",
        "        orm_mode = True\n",
        "\n",
        "class AlisCreate(BaseModel):\n",
        "    stok_id: int\n",
        "    alis_adet: int\n",
        "    kasiyer_id: int\n",
        "\n",
        "    class Config:\n",
        "        orm_mode = True\n",
        "\n",
        "class SatisCreate(BaseModel):\n",
        "    stok_id: int\n",
        "    satis_adet: int\n",
        "    kasiyer_id: int\n",
        "\n",
        "    class Config:\n",
        "        orm_mode = True"
      ],
      "metadata": {
        "id": "vrEwkfr4CGId"
      },
      "execution_count": null,
      "outputs": []
    },
    {
      "cell_type": "markdown",
      "source": [
        "Her çağırılan api için veritabanı bağlantısı sağlamak için oluşturulan session ve kullandıktan sonra kapanır."
      ],
      "metadata": {
        "id": "GGI8T4Z7CtOU"
      }
    },
    {
      "cell_type": "code",
      "source": [
        "# Veritabanı session yönetimi\n",
        "def get_db():\n",
        "    db = SessionLocal()\n",
        "    try:\n",
        "        yield db\n",
        "    finally:\n",
        "        db.close()"
      ],
      "metadata": {
        "id": "Zv0-pwPECiOV"
      },
      "execution_count": null,
      "outputs": []
    },
    {
      "cell_type": "markdown",
      "source": [
        "CRUD işlemleri ve API endpointleri"
      ],
      "metadata": {
        "id": "TEx7eXv-DD4b"
      }
    },
    {
      "cell_type": "code",
      "source": [
        "# Stok ekleme\n",
        "@app.post(\"/stoklar\", response_model=StokCreate)\n",
        "def create_stok(stok: StokCreate, db: Session = Depends(get_db)):\n",
        "    db_stok = Stok(stok_kod=stok.stok_kod, stok_adi=stok.stok_adi, stok_barkod=stok.stok_barkod, stok_fiyat=stok.stok_fiyat)\n",
        "    db.add(db_stok)\n",
        "    db.commit()\n",
        "    db.refresh(db_stok)\n",
        "    return db_stok\n",
        "\n",
        "# Kasiyer ekleme\n",
        "@app.post(\"/kasiyer\", response_model=KasiyerCreate)\n",
        "def create_kasiyer(kasiyer: KasiyerCreate, db: Session = Depends(get_db)):\n",
        "    db_kasiyer = Kasiyer(kasiyer_kod=kasiyer.kasiyer_kod, kasiyer_adi=kasiyer.kasiyer_adi, cinsiyet=kasiyer.cinsiyet)\n",
        "    db.add(db_kasiyer)\n",
        "    db.commit()\n",
        "    db.refresh(db_kasiyer)\n",
        "    return db_kasiyer\n",
        "\n",
        "# Alis ekleme\n",
        "@app.post(\"/alis\", response_model=AlisCreate)\n",
        "def create_alis(alis: AlisCreate, db: Session = Depends(get_db)):\n",
        "    db_alis = Alis(stok_id=alis.stok_id, alis_adet=alis.alis_adet, kasiyer_id=alis.kasiyer_id)\n",
        "    db.add(db_alis)\n",
        "    db.commit()\n",
        "    db.refresh(db_alis)\n",
        "    return db_alis\n",
        "\n",
        "# Satis ekleme\n",
        "@app.post(\"/satis\", response_model=SatisCreate)\n",
        "def create_satis(satis: SatisCreate, db: Session = Depends(get_db)):\n",
        "    db_satis = Satis(stok_id=satis.stok_id, satis_adet=satis.satis_adet, kasiyer_id=satis.kasiyer_id)\n",
        "    db.add(db_satis)\n",
        "    db.commit()\n",
        "    db.refresh(db_satis)\n",
        "    return db_satis\n",
        "\n",
        "# Stok güncelleme\n",
        "@app.put(\"/stoklar/{stok_id}\", response_model=StokCreate)\n",
        "def update_stok(stok_id: int, stok: StokCreate, db: Session = Depends(get_db)):\n",
        "    db_stok = db.query(Stok).filter(Stok.stok_id == stok_id).first()\n",
        "    if not db_stok:\n",
        "        raise HTTPException(status_code=404, detail=\"Stok not found\")\n",
        "\n",
        "    db_stok.stok_kod = stok.stok_kod if stok.stok_kod else db_stok.stok_kod\n",
        "    db_stok.stok_adi = stok.stok_adi if stok.stok_adi else db_stok.stok_adi\n",
        "    db_stok.stok_barkod = stok.stok_barkod if stok.stok_barkod else db_stok.stok_barkod\n",
        "    db_stok.stok_fiyat = stok.stok_fiyat if stok.stok_fiyat else db_stok.stok_fiyat\n",
        "\n",
        "    db.commit()\n",
        "    db.refresh(db_stok)\n",
        "    return db_stok\n",
        "\n",
        "# Kasiyer güncelleme\n",
        "@app.put(\"/kasiyer/{kasiyer_id}\", response_model=KasiyerCreate)\n",
        "def update_kasiyer(kasiyer_id: int, kasiyer: KasiyerCreate, db: Session = Depends(get_db)):\n",
        "    db_kasiyer = db.query(Kasiyer).filter(Kasiyer.kasiyer_id == kasiyer_id).first()\n",
        "    if not db_kasiyer:\n",
        "        raise HTTPException(status_code=404, detail=\"Kasiyer not found\")\n",
        "\n",
        "    db_kasiyer.kasiyer_kod = kasiyer.kasiyer_kod if kasiyer.kasiyer_kod else db_kasiyer.kasiyer_kod\n",
        "    db_kasiyer.kasiyer_adi = kasiyer.kasiyer_adi if kasiyer.kasiyer_adi else db_kasiyer.kasiyer_adi\n",
        "    db_kasiyer.cinsiyet = kasiyer.cinsiyet if kasiyer.cinsiyet else db_kasiyer.cinsiyet\n",
        "\n",
        "    db.commit()\n",
        "    db.refresh(db_kasiyer)\n",
        "    return db_kasiyer\n",
        "\n",
        "# Stok silme\n",
        "@app.delete(\"/stoklar/{stok_id}\")\n",
        "def delete_stok(stok_id: int, db: Session = Depends(get_db)):\n",
        "    db_stok = db.query(Stok).filter(Stok.stok_id == stok_id).first()\n",
        "    if db_stok:\n",
        "        db.delete(db_stok)\n",
        "        db.commit()\n",
        "        return {\"message\": \"Stok deleted successfully\"}\n",
        "    else:\n",
        "        raise HTTPException(status_code=404, detail=\"Stok not found\")\n",
        "\n",
        "# Kasiyer silme\n",
        "@app.delete(\"/kasiyer/{kasiyer_id}\")\n",
        "def delete_kasiyer(kasiyer_id: int, db: Session = Depends(get_db)):\n",
        "    db_kasiyer = db.query(Kasiyer).filter(Kasiyer.kasiyer_id == kasiyer_id).first()\n",
        "    if db_kasiyer:\n",
        "        db.delete(db_kasiyer)\n",
        "        db.commit()\n",
        "        return {\"message\": \"Kasiyer deleted successfully\"}\n",
        "    else:\n",
        "        raise HTTPException(status_code=404, detail=\"Kasiyer not found\")\n",
        "# Stoklar Tablosu - Tüm stokları listele\n",
        "@app.get(\"/stoklar\", response_model=List[StokCreate])\n",
        "def get_stoklar(db: Session = Depends(get_db)):\n",
        "    db_stoklar = db.query(Stok).all()\n",
        "    return db_stoklar\n",
        "\n",
        "# Kasiyerler Tablosu - Tüm kasiyerleri listele\n",
        "@app.get(\"/kasiyer\", response_model=List[KasiyerCreate])\n",
        "def get_kasiyerler(db: Session = Depends(get_db)):\n",
        "    db_kasiyerler = db.query(Kasiyer).all()\n",
        "    return db_kasiyerler\n",
        "\n",
        "# Alis Tablosu - Tüm alışları listele\n",
        "@app.get(\"/alis\", response_model=List[AlisCreate])\n",
        "def get_alislar(db: Session = Depends(get_db)):\n",
        "    db_alislar = db.query(Alis).all()\n",
        "    return db_alislar\n",
        "\n",
        "# Satis Tablosu - Tüm satışları listele\n",
        "@app.get(\"/satis\", response_model=List[SatisCreate])\n",
        "def get_satislar(db: Session = Depends(get_db)):\n",
        "    db_satislar = db.query(Satis).all()\n",
        "    return db_satislar\n",
        "\n",
        "# Stok Durum Raporu - Stok id'lere göre giriş ve çıkışları toplar, kalan tutarı hesaplar\n",
        "from sqlalchemy import func  # func fonksiyonunu import et\n",
        "\n",
        "@app.get(\"/stok-durum-raporu\")\n",
        "def get_stok_durum_raporu(stok_id: int, db: Session = Depends(get_db)):\n",
        "    try:\n",
        "        # Veritabanı sorgusu ile belirli stok_id'ye göre alınan ve satılan miktarları hesapla\n",
        "        stok_durum = db.query(\n",
        "            Stok.stok_id,\n",
        "            Stok.stok_adi,\n",
        "            func.sum(Alis.alis_adet).label('toplam_alis'),\n",
        "            func.sum(Satis.satis_adet).label('toplam_satis')\n",
        "        ).join(Alis, Alis.stok_id == Stok.stok_id, isouter=True).join(Satis, Satis.stok_id == Stok.stok_id, isouter=True) \\\n",
        "          .filter(Stok.stok_id == stok_id) \\\n",
        "          .group_by(Stok.stok_id).first()\n",
        "\n",
        "        if not stok_durum:\n",
        "            raise HTTPException(status_code=404, detail=\"Stok bulunamadı\")\n",
        "\n",
        "        # Sonuçları hesapla\n",
        "        stok_durum_result = {\n",
        "            \"stok_id\": stok_durum.stok_id,\n",
        "            \"stok_adi\": stok_durum.stok_adi,\n",
        "            \"toplam_alis\": stok_durum.toplam_alis or 0,\n",
        "            \"toplam_satis\": stok_durum.toplam_satis or 0,\n",
        "            \"kalan_stok\": (stok_durum.toplam_alis or 0) - (stok_durum.toplam_satis or 0)\n",
        "        }\n",
        "\n",
        "        return {\"stok_durum\": stok_durum_result}\n",
        "\n",
        "    except Exception as e:\n",
        "        # Hata durumunda 500 döndür\n",
        "        return {\"error\": str(e)}, 500\n",
        "\n",
        "# Kasiyer Satış Raporu - Tüm kasiyerlerin toplam sattığı satışlar toplamı\n",
        "@app.get(\"/kasiyer-alis-satis-raporu\")\n",
        "def get_kasiyer_alis_satis_raporu(kasiyer_id: int, db: Session = Depends(get_db)):\n",
        "    try:\n",
        "        # Veritabanı sorgusu ile belirli bir kasiyerin yaptığı toplam satışları ve girişleri hesapla\n",
        "        kasiyer_satis = db.query(\n",
        "            Kasiyer.kasiyer_id,\n",
        "            Kasiyer.kasiyer_adi,\n",
        "            func.sum(Satis.satis_adet).label('toplam_satis'),\n",
        "            func.sum(Alis.alis_adet).label('toplam_alis')\n",
        "        ).join(Satis, Satis.kasiyer_id == Kasiyer.kasiyer_id) \\\n",
        "          .join(Alis, Alis.kasiyer_id == Kasiyer.kasiyer_id) \\\n",
        "          .filter(Kasiyer.kasiyer_id == kasiyer_id) \\\n",
        "          .group_by(Kasiyer.kasiyer_id).first()\n",
        "\n",
        "\n",
        "\n",
        "\n",
        "        if not kasiyer_satis and not kasiyer_giris:\n",
        "            raise HTTPException(status_code=404, detail=\"Kasiyer bulunamadı\")\n",
        "\n",
        "        # Sonuçları hesapla\n",
        "        kasiyer_satis_result = {\n",
        "            \"kasiyer_id\": kasiyer_satis.kasiyer_id,\n",
        "            \"kasiyer_adi\": kasiyer_satis.kasiyer_adi,\n",
        "            \"toplam_satis\": kasiyer_satis.toplam_satis or 0,\n",
        "            \"toplam_giris\": kasiyer_satis.toplam_alis or 0\n",
        "        }\n",
        "\n",
        "        return {\"kasiyer_satis\": kasiyer_satis_result}\n",
        "\n",
        "    except Exception as e:\n",
        "        # Hata durumunda 500 döndür\n",
        "        return {\"error\": str(e)}, 500"
      ],
      "metadata": {
        "id": "iOg3jhErDACx"
      },
      "execution_count": null,
      "outputs": []
    },
    {
      "cell_type": "markdown",
      "source": [
        "Ngrok'u kullanabilmek için gereken token"
      ],
      "metadata": {
        "id": "XTEx0clpDh9e"
      }
    },
    {
      "cell_type": "code",
      "source": [
        "!ngrok config add-authtoken 2qWoHdQu8GJmLe7D2fOgfUcj7KS_BLzF5GwQXAz1JYakQ8o"
      ],
      "metadata": {
        "colab": {
          "base_uri": "https://localhost:8080/"
        },
        "id": "DeYbKnAGaVvg",
        "outputId": "4ed43b61-848d-45b2-dffe-5a5465462c10"
      },
      "execution_count": null,
      "outputs": [
        {
          "output_type": "stream",
          "name": "stdout",
          "text": [
            "Authtoken saved to configuration file: /root/.config/ngrok/ngrok.yml\n"
          ]
        }
      ]
    },
    {
      "cell_type": "markdown",
      "source": [
        "FastAPI uygulamamı çalıştırmak ve bir ngrok tüneli ile internet üzerinden erişilebilir hale getirmek için"
      ],
      "metadata": {
        "id": "9sJHs79MDxaf"
      }
    },
    {
      "cell_type": "code",
      "source": [
        "from pyngrok import ngrok\n",
        "import nest_asyncio\n",
        "import uvicorn\n",
        "\n",
        "# Colab'da asyncio'yu tekrar başlatmaya izin ver\n",
        "nest_asyncio.apply()\n",
        "\n",
        "# Sunucuya bir ngrok tüneli bağlayın\n",
        "public_url = ngrok.connect(8000)\n",
        "print(\"Public URL:\", public_url)\n",
        "\n",
        "# FastAPI uygulamasını başlat\n",
        "uvicorn.run(app, host=\"0.0.0.0\", port=8000)"
      ],
      "metadata": {
        "colab": {
          "base_uri": "https://localhost:8080/"
        },
        "id": "QckmG2MoZTLB",
        "outputId": "de37fa00-915b-4c7d-b96c-4efd9b2afcd0"
      },
      "execution_count": null,
      "outputs": [
        {
          "output_type": "stream",
          "name": "stdout",
          "text": [
            "Public URL: NgrokTunnel: \"https://2784-34-106-24-185.ngrok-free.app\" -> \"http://localhost:8000\"\n"
          ]
        },
        {
          "output_type": "stream",
          "name": "stderr",
          "text": [
            "INFO:     Started server process [146]\n",
            "INFO:     Waiting for application startup.\n",
            "INFO:     Application startup complete.\n",
            "INFO:     Uvicorn running on http://0.0.0.0:8000 (Press CTRL+C to quit)\n"
          ]
        },
        {
          "output_type": "stream",
          "name": "stdout",
          "text": [
            "INFO:     159.146.117.151:0 - \"GET /docs HTTP/1.1\" 200 OK\n",
            "INFO:     159.146.117.151:0 - \"GET /openapi.json HTTP/1.1\" 200 OK\n",
            "INFO:     159.146.117.151:0 - \"GET /kasiyer-alis-satis-raporu?kasiyer_id=1 HTTP/1.1\" 200 OK\n",
            "INFO:     159.146.117.151:0 - \"GET /stoklar HTTP/1.1\" 200 OK\n"
          ]
        },
        {
          "output_type": "stream",
          "name": "stderr",
          "text": [
            "WARNING:pyngrok.process.ngrok:t=2024-12-21T16:39:50+0000 lvl=warn msg=\"Stopping forwarder\" name=http-8000-a1fa3b8d-a85b-4f2b-acad-62ea6c63747f acceptErr=\"failed to accept connection: Listener closed\"\n",
            "WARNING:pyngrok.process.ngrok:t=2024-12-21T16:39:50+0000 lvl=warn msg=\"Error restarting forwarder\" name=http-8000-a1fa3b8d-a85b-4f2b-acad-62ea6c63747f err=\"failed to start tunnel: session closed\"\n",
            "INFO:     Shutting down\n",
            "INFO:     Waiting for application shutdown.\n",
            "INFO:     Application shutdown complete.\n",
            "INFO:     Finished server process [146]\n"
          ]
        }
      ]
    }
  ]
}